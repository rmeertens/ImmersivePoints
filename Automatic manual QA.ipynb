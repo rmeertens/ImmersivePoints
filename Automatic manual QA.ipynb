{
 "cells": [
  {
   "cell_type": "markdown",
   "metadata": {},
   "source": [
    "# Automatic manual QA\n",
    "When making changes to the page itself it's good to know that current files still work. That's why this notebook automatically renders some examples to verify that everything is still fine. "
   ]
  },
  {
   "cell_type": "code",
   "execution_count": 1,
   "metadata": {},
   "outputs": [],
   "source": [
    "import IPython\n",
    "import json\n",
    "import base64\n",
    "import numpy as np"
   ]
  },
  {
   "cell_type": "markdown",
   "metadata": {},
   "source": [
    "# No input to the URL\n",
    "Should display a nice example of what can be achieved"
   ]
  },
  {
   "cell_type": "code",
   "execution_count": 4,
   "metadata": {
    "scrolled": true
   },
   "outputs": [
    {
     "data": {
      "text/html": [
       "<iframe src=http://127.0.0.1:8000/oculus.html width=1000 height=550></iframe>"
      ],
      "text/plain": [
       "<IPython.core.display.HTML object>"
      ]
     },
     "execution_count": 4,
     "metadata": {},
     "output_type": "execute_result"
    }
   ],
   "source": [
    "url = 'http://127.0.0.1:8000/oculus.html'\n",
    "iframe = '<iframe src=' + url + ' width=1000 height=550></iframe>'\n",
    "IPython.display.HTML(iframe)"
   ]
  },
  {
   "cell_type": "markdown",
   "metadata": {},
   "source": [
    "# Set name to XYZ RGB file\n",
    "Should show a pointcloud with XYZ RGB points"
   ]
  },
  {
   "cell_type": "code",
   "execution_count": 5,
   "metadata": {},
   "outputs": [
    {
     "data": {
      "text/html": [
       "<iframe src=http://127.0.0.1:8000/oculus.html?name=236bcdf2-0376-4b8b-b76b-c15e58e75ecc.xyzrgb width=1000 height=550></iframe>"
      ],
      "text/plain": [
       "<IPython.core.display.HTML object>"
      ]
     },
     "execution_count": 5,
     "metadata": {},
     "output_type": "execute_result"
    }
   ],
   "source": [
    "url = 'http://127.0.0.1:8000/oculus.html?name=236bcdf2-0376-4b8b-b76b-c15e58e75ecc.xyzrgb'\n",
    "iframe = '<iframe src=' + url + ' width=1000 height=550></iframe>'\n",
    "IPython.display.HTML(iframe)"
   ]
  },
  {
   "cell_type": "markdown",
   "metadata": {},
   "source": [
    "# Input a JSON file with XYZI file\n",
    "Should show a pointcloud with XYZ with intensity points"
   ]
  },
  {
   "cell_type": "code",
   "execution_count": 6,
   "metadata": {},
   "outputs": [
    {
     "data": {
      "text/html": [
       "<iframe src=http://127.0.0.1:8000/oculus.html?jsonb64=eyJwb2ludHMiOiBbeyJzb3VyY2UiOiAidXJsIiwgInVybCI6ICJodHRwczovL3BvaW50Y2xvdWR2aXN1YWxpemF0aW9uLnMzLmV1LWNlbnRyYWwtMS5hbWF6b25hd3MuY29tL2UyNjUyYWFiLTRhY2UtNGEwOS04NmY0LTM3NGIyM2NiNjc3Yi54eXppIiwgInR5cGUiOiAiWFlaSSJ9XX0= width=1000 height=550></iframe>"
      ],
      "text/plain": [
       "<IPython.core.display.HTML object>"
      ]
     },
     "execution_count": 6,
     "metadata": {},
     "output_type": "execute_result"
    }
   ],
   "source": [
    "todisplay = {\n",
    "    \"points\": [\n",
    "        {\n",
    "            \"source\": \"url\",\n",
    "            \"url\": \"https://pointcloudvisualization.s3.eu-central-1.amazonaws.com/e2652aab-4ace-4a09-86f4-374b23cb677b.xyzi\",\n",
    "            \"type\": \"XYZI\",\n",
    "        }\n",
    "    ]\n",
    "}\n",
    "\n",
    "data = json.dumps(todisplay)\n",
    "data = base64.urlsafe_b64encode(json.dumps(todisplay).encode())\n",
    "\n",
    "url = 'http://127.0.0.1:8000/oculus.html?jsonb64=' + data.decode('ascii')\n",
    "iframe = '<iframe src=' + url + ' width=1000 height=550></iframe>'\n",
    "IPython.display.HTML(iframe)\n"
   ]
  },
  {
   "cell_type": "markdown",
   "metadata": {},
   "source": [
    "# Input a JSON file with Base64 XYZI points\n",
    "Should show a pointcloud with XYZ with intensity points"
   ]
  },
  {
   "cell_type": "code",
   "execution_count": 7,
   "metadata": {},
   "outputs": [
    {
     "data": {
      "text/html": [
       "<iframe src=http://127.0.0.1:8000/oculus.html?jsonb64=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 width=1000 height=550></iframe>"
      ],
      "text/plain": [
       "<IPython.core.display.HTML object>"
      ]
     },
     "execution_count": 7,
     "metadata": {},
     "output_type": "execute_result"
    }
   ],
   "source": [
    "randompoints = np.random.rand(250,4)\n",
    "\n",
    "swapped_bytes = randompoints.astype(np.float32).byteswap()\n",
    "base_64_string = base64.b64encode(swapped_bytes)\n",
    "\n",
    "\n",
    "todisplay = {\n",
    "    \"points\": [\n",
    "        {\n",
    "            \"source\": \"base64\",\n",
    "            \"base64\": str(base_64_string)[2:-1],\n",
    "            \"type\": \"XYZI\"\n",
    "        }\n",
    "    ]\n",
    "}\n",
    "\n",
    "data = json.dumps(todisplay)\n",
    "data = base64.urlsafe_b64encode(json.dumps(todisplay).encode())\n",
    "\n",
    "url = 'http://127.0.0.1:8000/oculus.html?jsonb64=' + data.decode('ascii')\n",
    "# print(url)\n",
    "iframe = '<iframe src=' + url + ' width=1000 height=550></iframe>'\n",
    "IPython.display.HTML(iframe)"
   ]
  },
  {
   "cell_type": "code",
   "execution_count": 8,
   "metadata": {},
   "outputs": [
    {
     "name": "stdout",
     "output_type": "stream",
     "text": [
      "http://127.0.0.1:8000/oculus.html?jsonb64=eyJwb2ludHMiOiBbeyJzb3VyY2UiOiAidXJsIiwgInVybCI6ICJodHRwczovL3BvaW50Y2xvdWR2aXN1YWxpemF0aW9uLnMzLmV1LWNlbnRyYWwtMS5hbWF6b25hd3MuY29tL2NhcnM1Lnh5emkiLCAidHlwZSI6ICJYWVpJIn1dLCAiYmJveGVzIjogW3sic291cmNlIjogInVybCIsICJ1cmwiOiAiaHR0cHM6Ly9wb2ludGNsb3VkdmlzdWFsaXphdGlvbi5zMy5ldS1jZW50cmFsLTEuYW1hem9uYXdzLmNvbS9jYXJzNWJveGVzLm5weSJ9XX0=\n"
     ]
    },
    {
     "data": {
      "text/html": [
       "<iframe src=http://127.0.0.1:8000/oculus.html?jsonb64=eyJwb2ludHMiOiBbeyJzb3VyY2UiOiAidXJsIiwgInVybCI6ICJodHRwczovL3BvaW50Y2xvdWR2aXN1YWxpemF0aW9uLnMzLmV1LWNlbnRyYWwtMS5hbWF6b25hd3MuY29tL2NhcnM1Lnh5emkiLCAidHlwZSI6ICJYWVpJIn1dLCAiYmJveGVzIjogW3sic291cmNlIjogInVybCIsICJ1cmwiOiAiaHR0cHM6Ly9wb2ludGNsb3VkdmlzdWFsaXphdGlvbi5zMy5ldS1jZW50cmFsLTEuYW1hem9uYXdzLmNvbS9jYXJzNWJveGVzLm5weSJ9XX0= width=1000 height=550></iframe>"
      ],
      "text/plain": [
       "<IPython.core.display.HTML object>"
      ]
     },
     "execution_count": 8,
     "metadata": {},
     "output_type": "execute_result"
    }
   ],
   "source": [
    "randompoints = np.random.rand(250,4)\n",
    "\n",
    "swapped_bytes = randompoints.astype(np.float32).byteswap()\n",
    "base_64_string = base64.b64encode(swapped_bytes)\n",
    "\n",
    "\n",
    "todisplay = {\n",
    "    \"points\": [\n",
    "        {\n",
    "            \"source\": \"url\",\n",
    "            \"url\": \"https://pointcloudvisualization.s3.eu-central-1.amazonaws.com/cars5.xyzi\",\n",
    "            \"type\": \"XYZI\"\n",
    "        }\n",
    "    ],\n",
    "    \"bboxes\": [\n",
    "        {     \n",
    "            \"source\": \"url\",\n",
    "            \"url\": \"https://pointcloudvisualization.s3.eu-central-1.amazonaws.com/cars5boxes.npy\"\n",
    "        }\n",
    "    ]\n",
    "}\n",
    "\n",
    "data = json.dumps(todisplay)\n",
    "data = base64.urlsafe_b64encode(json.dumps(todisplay).encode())\n",
    "\n",
    "url = 'http://127.0.0.1:8000/oculus.html?jsonb64=' + data.decode('ascii')\n",
    "print(url)\n",
    "iframe = '<iframe src=' + url + ' width=1000 height=550></iframe>'\n",
    "IPython.display.HTML(iframe)"
   ]
  },
  {
   "cell_type": "code",
   "execution_count": 16,
   "metadata": {},
   "outputs": [
    {
     "name": "stdout",
     "output_type": "stream",
     "text": [
      "[[0. 0. 0. 0. 0. 2.]\n",
      " [0. 0. 0. 0. 1. 0.]\n",
      " [0. 0. 0. 1. 0. 0.]]\n",
      "http://127.0.0.1:8000/oculus.html?jsonb64=eyJwb2ludHMiOiBbeyJzb3VyY2UiOiAidXJsIiwgInVybCI6ICJodHRwczovL3BvaW50Y2xvdWR2aXN1YWxpemF0aW9uLnMzLmV1LWNlbnRyYWwtMS5hbWF6b25hd3MuY29tL2NhcnM1Lnh5emkiLCAidHlwZSI6ICJYWVpJIn1dLCAibGluZXMiOiBbeyJzb3VyY2UiOiAidXJsIiwgInVybCI6ICJsaW5lcy5saW5lcyJ9XX0=\n"
     ]
    },
    {
     "data": {
      "text/html": [
       "<iframe src=http://127.0.0.1:8000/oculus.html?jsonb64=eyJwb2ludHMiOiBbeyJzb3VyY2UiOiAidXJsIiwgInVybCI6ICJodHRwczovL3BvaW50Y2xvdWR2aXN1YWxpemF0aW9uLnMzLmV1LWNlbnRyYWwtMS5hbWF6b25hd3MuY29tL2NhcnM1Lnh5emkiLCAidHlwZSI6ICJYWVpJIn1dLCAibGluZXMiOiBbeyJzb3VyY2UiOiAidXJsIiwgInVybCI6ICJsaW5lcy5saW5lcyJ9XX0= width=1000 height=550></iframe>"
      ],
      "text/plain": [
       "<IPython.core.display.HTML object>"
      ]
     },
     "execution_count": 16,
     "metadata": {},
     "output_type": "execute_result"
    }
   ],
   "source": [
    "lines = list()\n",
    "lines.append([0,0,0,0,0,2])\n",
    "lines.append([0,0,0,0,1,0])\n",
    "lines.append([0,0,0,1,0,0])\n",
    "lines = np.array(lines, dtype=np.float32)\n",
    "print(lines)\n",
    "lines.byteswap().tofile('lines.lines')\n",
    "\n",
    "randompoints = np.random.rand(250,4)\n",
    "\n",
    "swapped_bytes = randompoints.astype(np.float32).byteswap()\n",
    "base_64_string = base64.b64encode(swapped_bytes)\n",
    "\n",
    "\n",
    "todisplay = {\n",
    "    \"points\": [\n",
    "        {\n",
    "            \"source\": \"url\",\n",
    "            \"url\": \"https://pointcloudvisualization.s3.eu-central-1.amazonaws.com/cars5.xyzi\",\n",
    "            \"type\": \"XYZI\"\n",
    "        }\n",
    "    ],\n",
    "    \"lines\": [\n",
    "        {\n",
    "            \"source\": \"url\",\n",
    "            \"url\": \"lines.lines\"\n",
    "        }\n",
    "    ],\n",
    "}\n",
    "\n",
    "data = json.dumps(todisplay)\n",
    "data = base64.urlsafe_b64encode(json.dumps(todisplay).encode())\n",
    "\n",
    "url = 'http://127.0.0.1:8000/oculus.html?jsonb64=' + data.decode('ascii')\n",
    "print(url)\n",
    "iframe = '<iframe src=' + url + ' width=1000 height=550></iframe>'\n",
    "IPython.display.HTML(iframe)"
   ]
  },
  {
   "cell_type": "code",
   "execution_count": 7,
   "metadata": {},
   "outputs": [],
   "source": [
    "# 3D objects"
   ]
  },
  {
   "cell_type": "code",
   "execution_count": 9,
   "metadata": {},
   "outputs": [
    {
     "name": "stdout",
     "output_type": "stream",
     "text": [
      "http://127.0.0.1:8000/oculus.html?jsonb64=eyJwb2ludHMiOiBbeyJzb3VyY2UiOiAidXJsIiwgInVybCI6ICJodHRwczovL3BvaW50Y2xvdWR2aXN1YWxpemF0aW9uLnMzLmV1LWNlbnRyYWwtMS5hbWF6b25hd3MuY29tL2UyNjUyYWFiLTRhY2UtNGEwOS04NmY0LTM3NGIyM2NiNjc3Yi54eXppIiwgInR5cGUiOiAiWFlaSSJ9XSwgIm9iamVjdHMiOiBbeyJzb3VyY2UiOiAidXJsIiwgInVybCI6ICJob25kYS5nbGIiLCAicG9zaXRpb24iOiBbMS4wLCAyLjAsIDMuMF0sICJyb3RhdGlvbiI6IFswLjAsIC0xLjU1LCAwLjBdLCAic2NhbGUiOiBbMC4xLCAwLjEsIDAuMV19XX0=\n"
     ]
    },
    {
     "data": {
      "text/html": [
       "<iframe src=http://127.0.0.1:8000/oculus.html?jsonb64=eyJwb2ludHMiOiBbeyJzb3VyY2UiOiAidXJsIiwgInVybCI6ICJodHRwczovL3BvaW50Y2xvdWR2aXN1YWxpemF0aW9uLnMzLmV1LWNlbnRyYWwtMS5hbWF6b25hd3MuY29tL2UyNjUyYWFiLTRhY2UtNGEwOS04NmY0LTM3NGIyM2NiNjc3Yi54eXppIiwgInR5cGUiOiAiWFlaSSJ9XSwgIm9iamVjdHMiOiBbeyJzb3VyY2UiOiAidXJsIiwgInVybCI6ICJob25kYS5nbGIiLCAicG9zaXRpb24iOiBbMS4wLCAyLjAsIDMuMF0sICJyb3RhdGlvbiI6IFswLjAsIC0xLjU1LCAwLjBdLCAic2NhbGUiOiBbMC4xLCAwLjEsIDAuMV19XX0= width=1000 height=550></iframe>"
      ],
      "text/plain": [
       "<IPython.core.display.HTML object>"
      ]
     },
     "execution_count": 9,
     "metadata": {},
     "output_type": "execute_result"
    }
   ],
   "source": [
    "todisplay = {\n",
    "    \"points\": [\n",
    "        {\n",
    "            \"source\": \"url\",\n",
    "            \"url\": \"https://pointcloudvisualization.s3.eu-central-1.amazonaws.com/e2652aab-4ace-4a09-86f4-374b23cb677b.xyzi\",\n",
    "            \"type\": \"XYZI\",\n",
    "        }\n",
    "    ], \n",
    "    \"objects\": [\n",
    "        {\n",
    "            \"source\": \"url\", \n",
    "            \"url\": \"honda.glb\", \n",
    "            \"position\": [1.0, 2.0, 3.0], \n",
    "            \"rotation\": [0.0, -1.55, 0.0], \n",
    "            \"scale\": [0.1, 0.1, 0.1], \n",
    "        }\n",
    "    ]\n",
    "}\n",
    "\n",
    "data = json.dumps(todisplay)\n",
    "data = base64.urlsafe_b64encode(json.dumps(todisplay).encode())\n",
    "\n",
    "url = 'http://127.0.0.1:8000/oculus.html?jsonb64=' + data.decode('ascii')\n",
    "print(url)\n",
    "iframe = '<iframe src=' + url + ' width=1000 height=550></iframe>'\n",
    "IPython.display.HTML(iframe)\n"
   ]
  },
  {
   "cell_type": "code",
   "execution_count": null,
   "metadata": {},
   "outputs": [],
   "source": []
  }
 ],
 "metadata": {
  "kernelspec": {
   "display_name": "Python 3",
   "language": "python",
   "name": "python3"
  },
  "language_info": {
   "codemirror_mode": {
    "name": "ipython",
    "version": 3
   },
   "file_extension": ".py",
   "mimetype": "text/x-python",
   "name": "python",
   "nbconvert_exporter": "python",
   "pygments_lexer": "ipython3",
   "version": "3.8.5"
  }
 },
 "nbformat": 4,
 "nbformat_minor": 2
}
